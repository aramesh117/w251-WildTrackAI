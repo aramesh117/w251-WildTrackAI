{
  "nbformat": 4,
  "nbformat_minor": 0,
  "metadata": {
    "colab": {
      "name": "WildAID-PreProcess.ipynb",
      "provenance": [],
      "collapsed_sections": [],
      "machine_shape": "hm"
    },
    "kernelspec": {
      "name": "python3",
      "display_name": "Python 3"
    }
  },
  "cells": [
    {
      "cell_type": "markdown",
      "metadata": {
        "id": "jA2Q3Tn6YPbN",
        "colab_type": "text"
      },
      "source": [
        "# WildTrack AI - Data PreProcessing"
      ]
    },
    {
      "cell_type": "markdown",
      "metadata": {
        "id": "qkg-diiz_gIg",
        "colab_type": "text"
      },
      "source": [
        "This notebook is used to preprocess images per specifications for various models that were experimented with for Species Classification and Individual Identification tasks"
      ]
    },
    {
      "cell_type": "markdown",
      "metadata": {
        "id": "uLm5u9hN_we-",
        "colab_type": "text"
      },
      "source": [
        "## 1. Initialization"
      ]
    },
    {
      "cell_type": "code",
      "metadata": {
        "id": "sVEyGQQmufJu",
        "colab_type": "code",
        "colab": {}
      },
      "source": [
        "#Set up TF 2.0\n",
        "from __future__ import absolute_import, division, print_function, unicode_literals\n",
        "\n",
        "try:\n",
        "  # %tensorflow_version only exists in Colab.\n",
        "  %tensorflow_version 2.x\n",
        "except Exception:\n",
        "  pass\n",
        "\n",
        "import tensorflow as tf"
      ],
      "execution_count": 0,
      "outputs": []
    },
    {
      "cell_type": "code",
      "metadata": {
        "colab_type": "code",
        "id": "u-mWgHlgum4P",
        "outputId": "84cf71bf-9c61-4fd6-e038-792759bc0baa",
        "colab": {
          "base_uri": "https://localhost:8080/",
          "height": 34
        }
      },
      "source": [
        "#Import Libraries\n",
        "\n",
        "#General\n",
        "import csv\n",
        "import os\n",
        "import numpy as np\n",
        "from collections import defaultdict\n",
        "import random\n",
        "import pickle\n",
        "\n",
        "# Image processing libraries\n",
        "from keras.preprocessing import image as KImage\n",
        "import cv2\n",
        "from google.colab.patches import cv2_imshow\n",
        "\n",
        "\n",
        "# Preprocessors from Pretrained Models\n",
        "\n",
        "from tensorflow.keras.applications.vgg16 import preprocess_input as VGG16Pre\n",
        "from tensorflow.keras.applications.vgg19 import preprocess_input as VGG19Pre\n",
        "from tensorflow.keras.applications.inception_v3 import preprocess_input as InceptionPre\n",
        "from tensorflow.keras.applications.xception import preprocess_input as XceptionPre\n",
        "from tensorflow.keras.applications.mobilenet_v2 import preprocess_input as MNPre\n",
        "from tensorflow.keras.applications.imagenet_utils import preprocess_input\n",
        "\n",
        "# Plotting \n",
        "%matplotlib inline\n",
        "import matplotlib.pyplot as plt\n"
      ],
      "execution_count": 6,
      "outputs": [
        {
          "output_type": "stream",
          "text": [
            "Using TensorFlow backend.\n"
          ],
          "name": "stderr"
        }
      ]
    },
    {
      "cell_type": "code",
      "metadata": {
        "id": "IOq_0bZOKqT8",
        "colab_type": "code",
        "outputId": "6f63f16c-0e4e-4966-fe7d-552d500a3d62",
        "colab": {
          "base_uri": "https://localhost:8080/",
          "height": 122
        }
      },
      "source": [
        "#Mount Google Drive - Note this mounts your personal GDrive to the directory stated\n",
        "from google.colab import drive\n",
        "drive.mount('/content/drive')"
      ],
      "execution_count": 3,
      "outputs": [
        {
          "output_type": "stream",
          "text": [
            "Go to this URL in a browser: https://accounts.google.com/o/oauth2/auth?client_id=947318989803-6bn6qk8qdgf4n4g3pfee6491hc0brc4i.apps.googleusercontent.com&redirect_uri=urn%3aietf%3awg%3aoauth%3a2.0%3aoob&response_type=code&scope=email%20https%3a%2f%2fwww.googleapis.com%2fauth%2fdocs.test%20https%3a%2f%2fwww.googleapis.com%2fauth%2fdrive%20https%3a%2f%2fwww.googleapis.com%2fauth%2fdrive.photos.readonly%20https%3a%2f%2fwww.googleapis.com%2fauth%2fpeopleapi.readonly\n",
            "\n",
            "Enter your authorization code:\n",
            "··········\n",
            "Mounted at /content/drive\n"
          ],
          "name": "stdout"
        }
      ]
    },
    {
      "cell_type": "markdown",
      "metadata": {
        "id": "gXlkKVs-Bp5H",
        "colab_type": "text"
      },
      "source": [
        "## 2. Image Load and Pre-Process"
      ]
    },
    {
      "cell_type": "markdown",
      "metadata": {
        "id": "RWXL5wjCCpE6",
        "colab_type": "text"
      },
      "source": [
        "Images are loaded, pre-processed and saved back to csv files (one line per image) for retrieval later for Species Classification"
      ]
    },
    {
      "cell_type": "code",
      "metadata": {
        "id": "V8fIGbbCNWCl",
        "colab_type": "code",
        "outputId": "6c2826ae-f689-4014-a2af-c39e9192b6ab",
        "colab": {
          "base_uri": "https://localhost:8080/",
          "height": 204
        }
      },
      "source": [
        "#Set up path for training/ test data. Need to map U C Berkeley - Darragh/ shared to your personal GDrive for this to work. \n",
        "path=\"/content/drive/My Drive/U C Berkeley - Darragh/Training Data\"\n",
        "test_path=\"/content/drive/My Drive/U C Berkeley - Darragh/Test Data\"\n",
        "csvpath=\"/content/drive/My Drive/U C Berkeley - Darragh/csv\"\n",
        "os.listdir(path)"
      ],
      "execution_count": 7,
      "outputs": [
        {
          "output_type": "execute_result",
          "data": {
            "text/plain": [
              "['Amur Tiger',\n",
              " 'Bengal Tiger',\n",
              " 'Cheetah',\n",
              " 'Leopard',\n",
              " 'Lowland Tapir',\n",
              " 'Puma',\n",
              " 'White Rhino',\n",
              " 'Black Rhino',\n",
              " 'African lion',\n",
              " 'African elephant',\n",
              " 'Bongo']"
            ]
          },
          "metadata": {
            "tags": []
          },
          "execution_count": 7
        }
      ]
    },
    {
      "cell_type": "code",
      "metadata": {
        "id": "cVx6cCouGl71",
        "colab_type": "code",
        "colab": {}
      },
      "source": [
        "# Function to load and individual image to a specified size.\n",
        "def temp_load_image(image,preprocessor,size=(299,299)):\n",
        "  try:\n",
        "    print(image)\n",
        "    image = KImage.load_img(image,target_size=size,interpolation=\"nearest\")\n",
        "\n",
        "  except:\n",
        "    return np.zeros(0),np.zeros(0)\n",
        "  else:\n",
        "    raw= KImage.img_to_array(image)\n",
        "    x = np.expand_dims(raw, axis=0)\n",
        "    x = preprocessor(x)\n",
        "    x=np.squeeze(x)\n",
        "    #x=x.reshape(-1)\n",
        "    return image,x"
      ],
      "execution_count": 0,
      "outputs": []
    },
    {
      "cell_type": "code",
      "metadata": {
        "id": "dv8jZL4qGymh",
        "colab_type": "code",
        "outputId": "13fd7802-913a-49ed-8bea-26a81441e81d",
        "colab": {
          "base_uri": "https://localhost:8080/",
          "height": 34
        }
      },
      "source": [
        "#Test One Image\n",
        "raw,x=temp_load_image(os.path.join(test_path,'Cheetah','Aiko','Aiko.JPG'),VGG16Pre,(224,224))\n",
        "opencvImage = cv2.cvtColor(np.array(raw), cv2.COLOR_RGB2BGR)\n",
        "plt.imshow(raw)"
      ],
      "execution_count": 9,
      "outputs": [
        {
          "output_type": "stream",
          "text": [
            "/content/drive/My Drive/U C Berkeley - Darragh/Test Data/Cheetah/Aiko/Aiko.JPG\n"
          ],
          "name": "stdout"
        }
      ]
    },
    {
      "cell_type": "code",
      "metadata": {
        "id": "K-h7dhGjQuxz",
        "colab_type": "code",
        "colab": {}
      },
      "source": [
        "# Function to load and individual image to a specified size.\n",
        "def load_image(image,preprocessor,size=(299,299)):\n",
        "  try:\n",
        "    image = KImage.load_img(image,target_size=size,interpolation=\"nearest\")\n",
        "  except:\n",
        "    return np.zeros(0)\n",
        "  else:\n",
        "    x= KImage.img_to_array(image)\n",
        "    x = np.expand_dims(x, axis=0)\n",
        "    x = preprocessor(x)\n",
        "    x=np.squeeze(x)\n",
        "    x=x.reshape(-1)\n",
        "    return x"
      ],
      "execution_count": 0,
      "outputs": []
    },
    {
      "cell_type": "code",
      "metadata": {
        "id": "HFrU0jGtkgrB",
        "colab_type": "code",
        "colab": {}
      },
      "source": [
        "# Function to load image data set from specified folder. Will be reshaped to size specified in size parameter.\n",
        "# Once images are processed, writes back out to a csv file\n",
        "\n",
        "def LoadDataSet(folder,img_output,label_output,preprocessor,size=(224,224)):\n",
        "  Keys=[]\n",
        "  with open(img_output, 'w') as f:\n",
        "    writer = csv.writer(f)\n",
        "    for species in os.listdir(folder):\n",
        "      ind_path=folder+'/'+species\n",
        "      print(species)\n",
        "\n",
        "      for individual in os.listdir(ind_path):\n",
        "        print_path=ind_path+'/'+individual\n",
        "\n",
        "        for footprint in os.listdir(print_path):\n",
        "          if footprint.find(\" RH \")>0:\n",
        "            continue\n",
        "          else:\n",
        "            x=load_image(os.path.join(print_path,footprint),preprocessor,(224,224))\n",
        "            if x.shape[0]==0:\n",
        "              continue\n",
        "            else:\n",
        "              key=species+\"-\"+individual\n",
        "              Keys.append(key)\n",
        "              writer.writerow(x)\n",
        "\n",
        "  with open(label_output, 'w') as filehandle:\n",
        "    filehandle.writelines(\"%s\\n\" % key for key in Keys)"
      ],
      "execution_count": 0,
      "outputs": []
    },
    {
      "cell_type": "code",
      "metadata": {
        "id": "bfC4tg_vSap2",
        "colab_type": "code",
        "outputId": "d60c5d36-9697-4160-a2e1-5ea4cf4ef0e9",
        "colab": {
          "base_uri": "https://localhost:8080/",
          "height": 204
        }
      },
      "source": [
        "#Point to path to write csv images and create pre-processed training and test input for VGG16 model (224x224 image size) \n",
        "\n",
        "LoadDataSet(path,os.path.join(csvpath,\"Training-Images-224.csv\"),os.path.join(csvpath,\"Training-Labels-224.txt\"),VGG16Pre,(224,224))\n",
        "LoadDataSet(test_path,os.path.join(csvpath,\"Test-Images-224.csv\"),os.path.join(csvpath,\"Test-Labels-224.txt\"),VGG16Pre,(224,224))"
      ],
      "execution_count": 15,
      "outputs": [
        {
          "output_type": "stream",
          "text": [
            "Amur Tiger\n",
            "Bengal Tiger\n",
            "Cheetah\n",
            "Leopard\n",
            "Lowland Tapir\n",
            "Puma\n",
            "White Rhino\n",
            "Black Rhino\n",
            "African lion\n",
            "African elephant\n",
            "Bongo\n"
          ],
          "name": "stdout"
        }
      ]
    },
    {
      "cell_type": "code",
      "metadata": {
        "id": "gAYL957_lfxS",
        "colab_type": "code",
        "outputId": "91d06ade-af96-432b-9036-66595a504811",
        "colab": {
          "base_uri": "https://localhost:8080/",
          "height": 765
        }
      },
      "source": [
        "#Create similar csv files for Mobilenet (224x224) and Inception net (299x299)\n",
        "\n",
        "LoadDataSet(path,os.path.join(csvpath,\"Training-Images-299.csv\"),os.path.join(csvpath,\"Training-Labels-299.txt\"),preprocess_input,(299,299))\n",
        "LoadDataSet(test_path,os.path.join(csvpath,\"Test-Images-299.csv\"),os.path.join(csvpath,\"Test-Labels-299.txt\"),preprocess_input,(299,299))\n",
        "LoadDataSet(path,os.path.join(csvpath,\"Train-Images-Mobile-224.csv\"),os.path.join(csvpath,\"Train-Labels-Mobile-224.txt\"),MNPre,(224,224))\n",
        "LoadDataSet(test_path,os.path.join(csvpath,\"Test-Images-Mobile-224.csv\"),os.path.join(csvpath,\"Test-Labels-Mobile-224.txt\"),MNPre,(224,224))"
      ],
      "execution_count": 0,
      "outputs": [
        {
          "output_type": "stream",
          "text": [
            "Amur Tiger\n",
            "Bengal Tiger\n",
            "Cheetah\n",
            "Leopard\n",
            "Lowland Tapir\n",
            "Puma\n",
            "White Rhino\n",
            "Black Rhino\n",
            "African lion\n",
            "African elephant\n",
            "Bongo\n",
            "Amur Tiger\n",
            "Bengal Tiger\n",
            "Cheetah\n",
            "Leopard\n",
            "Lowland Tapir\n",
            "Puma\n",
            "White Rhino\n",
            "Black Rhino\n",
            "African lion\n",
            "African elephant\n",
            "Bongo\n",
            "Amur Tiger\n",
            "Bengal Tiger\n",
            "Cheetah\n",
            "Leopard\n",
            "Lowland Tapir\n",
            "Puma\n",
            "White Rhino\n",
            "Black Rhino\n",
            "African lion\n",
            "African elephant\n",
            "Bongo\n",
            "Amur Tiger\n",
            "Bengal Tiger\n",
            "Cheetah\n",
            "Leopard\n",
            "Lowland Tapir\n",
            "Puma\n",
            "White Rhino\n",
            "Black Rhino\n",
            "African lion\n",
            "African elephant\n",
            "Bongo\n"
          ],
          "name": "stdout"
        }
      ]
    },
    {
      "cell_type": "code",
      "metadata": {
        "id": "7Lm3HUAugkBb",
        "colab_type": "code",
        "outputId": "14f77736-eeea-4b79-cbb8-14b29901c12a",
        "colab": {
          "base_uri": "https://localhost:8080/",
          "height": 1000
        }
      },
      "source": [
        "#csv files for Xception, VGG19 and Inception\n",
        "\n",
        "LoadDataSet(path,os.path.join(csvpath,\"Training-Images-Xception-224.csv\"),os.path.join(csvpath,\"Training-Labels-Xception-224.txt\"),XceptionPre,(299,299))\n",
        "LoadDataSet(test_path,os.path.join(csvpath,\"Test-Images-Xception-224.csv\"),os.path.join(csvpath,\"Test-Labels-Xception-224.txt\"),XceptionPre,(299,299))\n",
        "LoadDataSet(path,os.path.join(csvpath,\"Training-Images-VGG19-224.csv\"),os.path.join(csvpath,\"Training-Labels-VGG19-224.txt\"),VGG19Pre,(224,224))\n",
        "LoadDataSet(test_path,os.path.join(csvpath,\"Test-Images-VGG19-224.csv\"),os.path.join(csvpath,\"Test-Labels-VGG19-224.txt\"),VGG19Pre,(224,224))\n",
        "LoadDataSet(path,os.path.join(csvpath,\"Training-Images-Inception-299.csv\"),os.path.join(csvpath,\"Training-Labels-Inception-299.txt\"),InceptionPre,(299,299))\n",
        "LoadDataSet(test_path,os.path.join(csvpath,\"Test-Images-Inception-299.csv\"),os.path.join(csvpath,\"Test-Labels-Inception-299.txt\"),InceptionPre,(299,299))"
      ],
      "execution_count": 0,
      "outputs": [
        {
          "output_type": "stream",
          "text": [
            "Amur Tiger\n",
            "Bengal Tiger\n",
            "Cheetah\n",
            "Leopard\n",
            "Lowland Tapir\n",
            "Puma\n",
            "White Rhino\n",
            "Black Rhino\n",
            "African lion\n",
            "African elephant\n",
            "Bongo\n",
            "Amur Tiger\n",
            "Bengal Tiger\n",
            "Cheetah\n",
            "Leopard\n",
            "Lowland Tapir\n",
            "Puma\n",
            "White Rhino\n",
            "Black Rhino\n",
            "African lion\n",
            "African elephant\n",
            "Bongo\n",
            "Amur Tiger\n",
            "Bengal Tiger\n",
            "Cheetah\n",
            "Leopard\n",
            "Lowland Tapir\n",
            "Puma\n",
            "White Rhino\n",
            "Black Rhino\n",
            "African lion\n",
            "African elephant\n",
            "Bongo\n",
            "Amur Tiger\n",
            "Bengal Tiger\n",
            "Cheetah\n",
            "Leopard\n",
            "Lowland Tapir\n",
            "Puma\n",
            "White Rhino\n",
            "Black Rhino\n",
            "African lion\n",
            "Bongo\n",
            "Amur Tiger\n",
            "Bengal Tiger\n",
            "Cheetah\n",
            "Leopard\n",
            "Lowland Tapir\n",
            "Puma\n",
            "White Rhino\n",
            "Black Rhino\n",
            "African lion\n",
            "African elephant\n",
            "Bongo\n",
            "Amur Tiger\n",
            "Bengal Tiger\n",
            "Cheetah\n",
            "Leopard\n",
            "Lowland Tapir\n",
            "Puma\n",
            "White Rhino\n",
            "Black Rhino\n",
            "African lion\n",
            "African elephant\n",
            "Bongo\n"
          ],
          "name": "stdout"
        }
      ]
    },
    {
      "cell_type": "code",
      "metadata": {
        "id": "b68_NSmTko_U",
        "colab_type": "code",
        "outputId": "d9359a8a-b3d1-407b-eba0-ebbb8aa99c83",
        "colab": {
          "base_uri": "https://localhost:8080/",
          "height": 391
        }
      },
      "source": [
        "#csv files for EfficientNET\n",
        "LoadDataSet(path,os.path.join(csvpath,\"Training-Images-EfficientB4-224.csv\"),os.path.join(csvpath,\"Training-Labels-EfficientB4-224.txt\"),XceptionPre,(299,299))\n",
        "LoadDataSet(test_path,os.path.join(csvpath,\"Test-Images-EfficientB4-224.csv\"),os.path.join(csvpath,\"Test-Labels-EfficientB4-224.txt\"),XceptionPre,(299,299))"
      ],
      "execution_count": 0,
      "outputs": [
        {
          "output_type": "stream",
          "text": [
            "Amur Tiger\n",
            "Bengal Tiger\n",
            "Cheetah\n",
            "Leopard\n",
            "Lowland Tapir\n",
            "Puma\n",
            "White Rhino\n",
            "Black Rhino\n",
            "African lion\n",
            "African elephant\n",
            "Bongo\n",
            "Amur Tiger\n",
            "Bengal Tiger\n",
            "Cheetah\n",
            "Leopard\n",
            "Lowland Tapir\n",
            "Puma\n",
            "White Rhino\n",
            "Black Rhino\n",
            "African lion\n",
            "African elephant\n",
            "Bongo\n"
          ],
          "name": "stdout"
        }
      ]
    }
  ]
}