{
  "nbformat": 4,
  "nbformat_minor": 0,
  "metadata": {
    "colab": {
      "name": "WildAID-PreProcess.ipynb",
      "provenance": [],
      "collapsed_sections": [],
      "machine_shape": "hm",
      "include_colab_link": true
    },
    "kernelspec": {
      "name": "python3",
      "display_name": "Python 3"
    },
    "accelerator": "GPU"
  },
  "cells": [
    {
      "cell_type": "markdown",
      "metadata": {
        "id": "view-in-github",
        "colab_type": "text"
      },
      "source": [
        "<a href=\"https://colab.research.google.com/github/jtdsouza/w251-WIldTrackAI/blob/master/WildAID_PreProcess.ipynb\" target=\"_parent\"><img src=\"https://colab.research.google.com/assets/colab-badge.svg\" alt=\"Open In Colab\"/></a>"
      ]
    },
    {
      "cell_type": "markdown",
      "metadata": {
        "id": "jA2Q3Tn6YPbN",
        "colab_type": "text"
      },
      "source": [
        "# Initialization and Load Image Data"
      ]
    },
    {
      "cell_type": "code",
      "metadata": {
        "id": "sVEyGQQmufJu",
        "colab_type": "code",
        "outputId": "c3ccc64e-b390-4709-a07b-f732498eb3fa",
        "colab": {
          "base_uri": "https://localhost:8080/",
          "height": 34
        }
      },
      "source": [
        "#Set up TF 2.0\n",
        "from __future__ import absolute_import, division, print_function, unicode_literals\n",
        "\n",
        "try:\n",
        "  # %tensorflow_version only exists in Colab.\n",
        "  %tensorflow_version 2.x\n",
        "except Exception:\n",
        "  pass\n",
        "\n",
        "import tensorflow as tf"
      ],
      "execution_count": 0,
      "outputs": [
        {
          "output_type": "stream",
          "text": [
            "TensorFlow 2.x selected.\n"
          ],
          "name": "stdout"
        }
      ]
    },
    {
      "cell_type": "code",
      "metadata": {
        "colab_type": "code",
        "id": "u-mWgHlgum4P",
        "outputId": "5fda8886-ee69-4084-8de9-d6360293f249",
        "colab": {
          "base_uri": "https://localhost:8080/",
          "height": 34
        }
      },
      "source": [
        "from tensorflow.keras.models import Sequential\n",
        "from tensorflow.keras.layers import Conv2D, ZeroPadding2D, Activation, Input, concatenate\n",
        "from tensorflow.keras.models import Model\n",
        "from tensorflow.keras.layers import MaxPooling2D, AveragePooling2D, BatchNormalization, GlobalMaxPooling2D, GlobalAveragePooling2D\n",
        "from tensorflow.keras.layers import Concatenate\n",
        "from tensorflow.keras.layers import Lambda, Flatten, Dense, Dropout\n",
        "from tensorflow.keras.layers import Layer\n",
        "from tensorflow.keras.regularizers import l2\n",
        "from tensorflow.keras.optimizers import Adam\n",
        "from tensorflow.keras.initializers import he_normal\n",
        "from tensorflow.keras.initializers import lecun_normal\n",
        "from tensorflow.keras.initializers import he_uniform\n",
        "from tensorflow.keras.initializers import glorot_uniform\n",
        "from tensorflow.keras.initializers import glorot_normal\n",
        "from tensorflow.keras import backend as K\n",
        "from keras.preprocessing import image as KImage\n",
        "\n",
        "import cv2\n",
        "import csv\n",
        "import os\n",
        "import numpy as np\n",
        "from numpy import genfromtxt\n",
        "import pandas as pd\n",
        "from google.colab.patches import cv2_imshow\n",
        "from collections import defaultdict\n",
        "import random\n",
        "from sklearn.preprocessing import LabelEncoder\n",
        "from tensorflow.keras.applications.vgg16 import VGG16\n",
        "from tensorflow.keras.applications.vgg16 import preprocess_input as VGG16Pre\n",
        "from tensorflow.keras.applications.vgg19 import VGG19\n",
        "from tensorflow.keras.applications.vgg19 import preprocess_input as VGG19Pre\n",
        "from tensorflow.keras.applications.inception_v3 import InceptionV3\n",
        "from tensorflow.keras.applications.inception_v3 import preprocess_input as InceptionPre\n",
        "from tensorflow.keras.applications.xception import Xception\n",
        "from tensorflow.keras.applications.xception import preprocess_input as XceptionPre\n",
        "from tensorflow.keras.applications.mobilenet_v2 import MobileNetV2\n",
        "from tensorflow.keras.applications.mobilenet_v2 import preprocess_input as MNPre\n",
        "from tensorflow.keras.applications.resnet_v2 import ResNet152V2\n",
        "from tensorflow.keras.applications.resnet_v2 import ResNet50V2\n",
        "from tensorflow.keras.applications.nasnet import NASNetMobile\n",
        "from tensorflow.keras.applications.densenet import DenseNet121\n",
        "\n",
        "from tensorflow.keras.applications.imagenet_utils import preprocess_input\n",
        "import pickle"
      ],
      "execution_count": 0,
      "outputs": [
        {
          "output_type": "stream",
          "text": [
            "Using TensorFlow backend.\n"
          ],
          "name": "stderr"
        }
      ]
    },
    {
      "cell_type": "code",
      "metadata": {
        "id": "IOq_0bZOKqT8",
        "colab_type": "code",
        "outputId": "d1763d96-5192-440d-ca8b-6b61a4e57fcf",
        "colab": {
          "base_uri": "https://localhost:8080/",
          "height": 122
        }
      },
      "source": [
        "#Mount Google Drive - Note this mounts your personal GDrive to the directory stated\n",
        "from google.colab import drive\n",
        "drive.mount('/content/drive')"
      ],
      "execution_count": 0,
      "outputs": [
        {
          "output_type": "stream",
          "text": [
            "Go to this URL in a browser: https://accounts.google.com/o/oauth2/auth?client_id=947318989803-6bn6qk8qdgf4n4g3pfee6491hc0brc4i.apps.googleusercontent.com&redirect_uri=urn%3aietf%3awg%3aoauth%3a2.0%3aoob&response_type=code&scope=email%20https%3a%2f%2fwww.googleapis.com%2fauth%2fdocs.test%20https%3a%2f%2fwww.googleapis.com%2fauth%2fdrive%20https%3a%2f%2fwww.googleapis.com%2fauth%2fdrive.photos.readonly%20https%3a%2f%2fwww.googleapis.com%2fauth%2fpeopleapi.readonly\n",
            "\n",
            "Enter your authorization code:\n",
            "··········\n",
            "Mounted at /content/drive\n"
          ],
          "name": "stdout"
        }
      ]
    },
    {
      "cell_type": "code",
      "metadata": {
        "id": "V8fIGbbCNWCl",
        "colab_type": "code",
        "outputId": "16f76f33-9ae7-44e4-84ca-b5bc422eb515",
        "colab": {
          "base_uri": "https://localhost:8080/",
          "height": 153
        }
      },
      "source": [
        "#Set up path for training/ test data. Need to map U C Berkeley - Darragh/ shared to your personal GDrive for this to work. \n",
        "path=\"/content/drive/My Drive/U C Berkeley - Darragh/Training Data\"\n",
        "test_path=\"/content/drive/My Drive/U C Berkeley - Darragh/Test Data\"\n",
        "os.listdir(path)"
      ],
      "execution_count": 0,
      "outputs": [
        {
          "output_type": "execute_result",
          "data": {
            "text/plain": [
              "['Amur Tiger',\n",
              " 'Bengal Tiger',\n",
              " 'Cheetah',\n",
              " 'Leopard',\n",
              " 'Lowland Tapir',\n",
              " 'Puma',\n",
              " 'White Rhino',\n",
              " 'Black Rhino']"
            ]
          },
          "metadata": {
            "tags": []
          },
          "execution_count": 4
        }
      ]
    },
    {
      "cell_type": "code",
      "metadata": {
        "id": "K-h7dhGjQuxz",
        "colab_type": "code",
        "colab": {}
      },
      "source": [
        "# Function to load and individual image to a specified size.\n",
        "def load_image(image,preprocessor,size=(299,299)):\n",
        "  try:\n",
        "    image = KImage.load_img(image,target_size=size,interpolation=\"nearest\")\n",
        "  except:\n",
        "    return np.zeros(0)\n",
        "  else:\n",
        "    x= KImage.img_to_array(image)\n",
        "    x = np.expand_dims(x, axis=0)\n",
        "    x = preprocessor(x)\n",
        "    x=np.squeeze(x)\n",
        "    x=x.reshape(-1)\n",
        "    return x"
      ],
      "execution_count": 0,
      "outputs": []
    },
    {
      "cell_type": "code",
      "metadata": {
        "id": "HFrU0jGtkgrB",
        "colab_type": "code",
        "colab": {}
      },
      "source": [
        "# Function to load image data set from specified folder. Will be reshaped to size specified in size parameter.\n",
        "# Once images are processed, writes back out to a csv file\n",
        "\n",
        "def LoadDataSet(folder,img_output,label_output,preprocessor,size=(224,224)):\n",
        "  Keys=[]\n",
        "  with open(img_output, 'w') as f:\n",
        "    writer = csv.writer(f)\n",
        "    for species in os.listdir(folder):\n",
        "      ind_path=folder+'/'+species\n",
        "      print(species)\n",
        "\n",
        "      for individual in os.listdir(ind_path):\n",
        "        print_path=ind_path+'/'+individual\n",
        "        #print(print_path)\n",
        "\n",
        "        for footprint in os.listdir(print_path):\n",
        "          x=load_image(os.path.join(print_path,footprint),preprocessor,(224,224))\n",
        "          if x.shape[0]==0:\n",
        "            continue\n",
        "          else:\n",
        "            key=species+\"-\"+individual\n",
        "            Keys.append(key)\n",
        "            writer.writerow(x)\n",
        "\n",
        "  with open(label_output, 'w') as filehandle:\n",
        "    filehandle.writelines(\"%s\\n\" % key for key in Keys)"
      ],
      "execution_count": 0,
      "outputs": []
    },
    {
      "cell_type": "code",
      "metadata": {
        "id": "bfC4tg_vSap2",
        "colab_type": "code",
        "outputId": "2bbe769c-4096-4673-e132-e5b098d9931b",
        "colab": {
          "base_uri": "https://localhost:8080/",
          "height": 153
        }
      },
      "source": [
        "#Point to path to write csv images and create pre-processed input for VGG16 model (224x224 image size) \n",
        "csvpath=\"/content/drive/My Drive/U C Berkeley - Darragh/csv\"\n",
        "LoadDataSet(path,os.path.join(csvpath,\"Training-Images-224.csv\"),os.path.join(csvpath,\"Training-Labels-224.txt\"),VGG16Pre,(224,224))"
      ],
      "execution_count": 0,
      "outputs": [
        {
          "output_type": "stream",
          "text": [
            "Amur Tiger\n",
            "Bengal Tiger\n",
            "Cheetah\n",
            "Leopard\n",
            "Lowland Tapir\n",
            "Puma\n",
            "White Rhino\n",
            "Black Rhino\n"
          ],
          "name": "stdout"
        }
      ]
    },
    {
      "cell_type": "code",
      "metadata": {
        "id": "kLxNuMfFTqjR",
        "colab_type": "code",
        "outputId": "18256cdb-0a0b-41da-ec2d-19c985897839",
        "colab": {
          "base_uri": "https://localhost:8080/",
          "height": 153
        }
      },
      "source": [
        "#Test that images were saved correctly\n",
        "test_path=\"/content/drive/My Drive/U C Berkeley - Darragh/Test Data\"\n",
        "LoadDataSet(test_path,os.path.join(csvpath,\"Test-Images-224.csv\"),os.path.join(csvpath,\"Test-Labels-224.txt\"),VGG16Pre,(224,224))"
      ],
      "execution_count": 0,
      "outputs": [
        {
          "output_type": "stream",
          "text": [
            "Amur Tiger\n",
            "Bengal Tiger\n",
            "Cheetah\n",
            "Leopard\n",
            "Lowland Tapir\n",
            "Puma\n",
            "White Rhino\n",
            "Black Rhino\n"
          ],
          "name": "stdout"
        }
      ]
    },
    {
      "cell_type": "code",
      "metadata": {
        "id": "gAYL957_lfxS",
        "colab_type": "code",
        "outputId": "2946148f-0a7e-46bf-84b0-702ce1c6d1f3",
        "colab": {
          "base_uri": "https://localhost:8080/",
          "height": 561
        }
      },
      "source": [
        "#Create similar csv files for Mobilenet (224x224) and Inception net (299x299)\n",
        "\n",
        "csvpath=\"/content/drive/My Drive/U C Berkeley - Darragh/csv\"\n",
        "test_path=\"/content/drive/My Drive/U C Berkeley - Darragh/Test Data\"\n",
        "#LoadDataSet(path,os.path.join(csvpath,\"Training-Images-224.csv\"),os.path.join(csvpath,\"Training-Labels-224.txt\"),VGG16Pre,(224,224))\n",
        "#LoadDataSet(test_path,os.path.join(csvpath,\"Test-Images-224.csv\"),os.path.join(csvpath,\"Test-Labels-224.txt\"),VGG16Pre,(224,224))\n",
        "LoadDataSet(path,os.path.join(csvpath,\"Training-Images-299.csv\"),os.path.join(csvpath,\"Training-Labels-299.txt\"),preprocess_input,(299,299))\n",
        "LoadDataSet(test_path,os.path.join(csvpath,\"Test-Images-299.csv\"),os.path.join(csvpath,\"Test-Labels-299.txt\"),preprocess_input,(299,299))\n",
        "LoadDataSet(path,os.path.join(csvpath,\"Train-Images-Mobile-224.csv\"),os.path.join(csvpath,\"Train-Labels-Mobile-224.txt\"),MNPre,(224,224))\n",
        "LoadDataSet(test_path,os.path.join(csvpath,\"Test-Images-Mobile-224.csv\"),os.path.join(csvpath,\"Test-Labels-Mobile-224.txt\"),MNPre,(224,224))"
      ],
      "execution_count": 0,
      "outputs": [
        {
          "output_type": "stream",
          "text": [
            "Amur Tiger\n",
            "Bengal Tiger\n",
            "Cheetah\n",
            "Leopard\n",
            "Lowland Tapir\n",
            "Puma\n",
            "White Rhino\n",
            "Black Rhino\n",
            "Amur Tiger\n",
            "Bengal Tiger\n",
            "Cheetah\n",
            "Leopard\n",
            "Lowland Tapir\n",
            "Puma\n",
            "White Rhino\n",
            "Black Rhino\n",
            "Amur Tiger\n",
            "Bengal Tiger\n",
            "Cheetah\n",
            "Leopard\n",
            "Lowland Tapir\n",
            "Puma\n",
            "White Rhino\n",
            "Black Rhino\n",
            "Amur Tiger\n",
            "Bengal Tiger\n",
            "Cheetah\n",
            "Leopard\n",
            "Lowland Tapir\n",
            "Puma\n",
            "White Rhino\n",
            "Black Rhino\n"
          ],
          "name": "stdout"
        }
      ]
    },
    {
      "cell_type": "code",
      "metadata": {
        "id": "7Lm3HUAugkBb",
        "colab_type": "code",
        "outputId": "67f74fae-e0b0-43e1-eb3b-9a5d651ce07d",
        "colab": {
          "base_uri": "https://localhost:8080/",
          "height": 833
        }
      },
      "source": [
        "#csv files for Xception, VGG19 and Inception\n",
        "\n",
        "csvpath=\"/content/drive/My Drive/U C Berkeley - Darragh/csv\"\n",
        "LoadDataSet(path,os.path.join(csvpath,\"Training-Images-Xception-224.csv\"),os.path.join(csvpath,\"Training-Labels.txt\"),XceptionPre,(299,299))\n",
        "LoadDataSet(test_path,os.path.join(csvpath,\"Test-Images-Xception-224.csv\"),os.path.join(csvpath,\"Test-Labels.txt\"),XceptionPre,(299,299))\n",
        "LoadDataSet(path,os.path.join(csvpath,\"Training-Images-VGG19-224.csv\"),os.path.join(csvpath,\"Training-Labels.txt\"),VGG19Pre,(224,224))\n",
        "LoadDataSet(test_path,os.path.join(csvpath,\"Test-Images-VGG19-224.csv\"),os.path.join(csvpath,\"Test-Labels.txt\"),VGG19Pre,(224,224))\n",
        "LoadDataSet(path,os.path.join(csvpath,\"Training-Images-Inception-299.csv\"),os.path.join(csvpath,\"Training-Labels.txt\"),InceptionPre,(299,299))\n",
        "LoadDataSet(test_path,os.path.join(csvpath,\"Test-Images-Incception-299.csv\"),os.path.join(csvpath,\"Test-Labels.txt\"),InceptionPre,(299,299))"
      ],
      "execution_count": 0,
      "outputs": [
        {
          "output_type": "stream",
          "text": [
            "Amur Tiger\n",
            "Bengal Tiger\n",
            "Cheetah\n",
            "Leopard\n",
            "Lowland Tapir\n",
            "Puma\n",
            "White Rhino\n",
            "Black Rhino\n",
            "Amur Tiger\n",
            "Bengal Tiger\n",
            "Cheetah\n",
            "Leopard\n",
            "Lowland Tapir\n",
            "Puma\n",
            "White Rhino\n",
            "Black Rhino\n",
            "Amur Tiger\n",
            "Bengal Tiger\n",
            "Cheetah\n",
            "Leopard\n",
            "Lowland Tapir\n",
            "Puma\n",
            "White Rhino\n",
            "Black Rhino\n",
            "Amur Tiger\n",
            "Bengal Tiger\n",
            "Cheetah\n",
            "Leopard\n",
            "Lowland Tapir\n",
            "Puma\n",
            "White Rhino\n",
            "Black Rhino\n",
            "Amur Tiger\n",
            "Bengal Tiger\n",
            "Cheetah\n",
            "Leopard\n",
            "Lowland Tapir\n",
            "Puma\n",
            "White Rhino\n",
            "Black Rhino\n",
            "Amur Tiger\n",
            "Bengal Tiger\n",
            "Cheetah\n",
            "Leopard\n",
            "Lowland Tapir\n",
            "Puma\n",
            "White Rhino\n",
            "Black Rhino\n"
          ],
          "name": "stdout"
        }
      ]
    },
    {
      "cell_type": "code",
      "metadata": {
        "id": "b68_NSmTko_U",
        "colab_type": "code",
        "colab": {}
      },
      "source": [
        ""
      ],
      "execution_count": 0,
      "outputs": []
    }
  ]
}